{
 "cells": [
  {
   "cell_type": "code",
   "execution_count": null,
   "metadata": {},
   "outputs": [],
   "source": [
    "import math\n",
    "def f(x):\n",
    "\treturn x * math.exp(-x)\n",
    "\n",
    "def f_deriv(x, dx=1e-10):\n",
    "\treturn (f(x + dx) - f(x)) / dx\n",
    "\n",
    "# initial guess for the maximum value\n",
    "x = 1.0\n",
    "# step size for the gradient descent iteration\n",
    "epsilon = 0.01\n",
    "# maximum number of iterationB\n",
    "max_iterations = 1000\n",
    "# tolerance for convergence\n",
    "tolerance = 1e-6\n",
    "# initial value for the previous approximation\n",
    "prev_approx  =  f(x)\n",
    "\n",
    "for i in range(max_iterations):\n",
    "    \t# update x using the gradient descent iteration\n",
    "\t\tcurr_approx = x + epsilon * f_deriv(x)\n",
    "\t\t# compute the current approximation\n",
    "\t\tcurr_approx  =  f(x)\n",
    "\t\t#    check   for    convergence\n",
    "\t\tif abs (curr_approx - prev_approx) < tolerance :\n",
    "\t\t\tbreak\n",
    "    # update    the    previous    approximation\n",
    "prev_approx = curr_approx\n",
    "\n",
    "print(\"Maximum value of f(x) is approximately {:.6f} at x = {:.6f}\".format(curr_approx, x))\n"
   ]
  }
 ],
 "metadata": {
  "language_info": {
   "name": "python"
  },
  "orig_nbformat": 4
 },
 "nbformat": 4,
 "nbformat_minor": 2
}
